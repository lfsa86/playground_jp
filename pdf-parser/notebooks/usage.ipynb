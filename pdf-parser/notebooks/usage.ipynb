{
 "cells": [
  {
   "cell_type": "markdown",
   "metadata": {},
   "source": [
    "# PDF Transcriber Library - Usage Examples\n",
    "\n",
    "This notebook demonstrates how to use the PDF Transcriber library to convert PDF documents to Markdown with tables in HTML format using Google Gemini API with parallel processing."
   ]
  },
  {
   "cell_type": "markdown",
   "metadata": {},
   "source": [
    "## Import the Library\n",
    "\n",
    "Now let's import the necessary components from the library:"
   ]
  },
  {
   "cell_type": "code",
   "execution_count": 1,
   "metadata": {},
   "outputs": [
    {
     "name": "stderr",
     "output_type": "stream",
     "text": [
      "/Users/dqniel/Projects/lfsa/Identificacion-de-Compromisos/Identificacion-de-Compromisos/.venv/lib/python3.12/site-packages/tqdm/auto.py:21: TqdmWarning: IProgress not found. Please update jupyter and ipywidgets. See https://ipywidgets.readthedocs.io/en/stable/user_install.html\n",
      "  from .autonotebook import tqdm as notebook_tqdm\n"
     ]
    }
   ],
   "source": [
    "import logging\n",
    "import os\n",
    "import sys\n",
    "\n",
    "# Add directory to sys.path so we can import the pdf_parser module\n",
    "sys.path.append(\"..\")\n",
    "\n",
    "\n",
    "from pdf_parser import PDFParser\n",
    "\n",
    "# Set up logging to see what's happening\n",
    "logging.basicConfig(\n",
    "    level=logging.INFO, format=\"%(asctime)s - %(name)s - %(levelname)s - %(message)s\"\n",
    ")\n",
    "logger = logging.getLogger(\"pdf-transcriber-example\")\n"
   ]
  },
  {
   "cell_type": "markdown",
   "metadata": {},
   "source": [
    "## Set Up API Key\n",
    "\n",
    "You need to set up your Google Gemini API key. You can either set it as an environment variable or pass it directly to the PDFParser:"
   ]
  },
  {
   "cell_type": "code",
   "execution_count": 2,
   "metadata": {},
   "outputs": [],
   "source": [
    "# Set your api key here\n",
    "# os.environ[\"GOOGLE_API_KEY\"] = \"your-api-key-here\"  # Replace with your actual API key"
   ]
  },
  {
   "cell_type": "markdown",
   "metadata": {},
   "source": [
    "## Example 1: Basic Usage - Transcribe a Single PDF"
   ]
  },
  {
   "cell_type": "code",
   "execution_count": 3,
   "metadata": {},
   "outputs": [
    {
     "name": "stderr",
     "output_type": "stream",
     "text": [
      "2025-02-27 23:41:26,297 - pdf_parser - INFO - Starting parallel transcription of data/raw/rca.pdf\n",
      "Converting PDF to images: 100%|██████████| 160/160 [00:02<00:00, 61.40page/s]\n",
      "2025-02-27 23:41:28,974 - pdf_parser - INFO - Converted PDF to 160 images\n",
      "2025-02-27 23:41:28,974 - pdf_parser - INFO - Selected 3 sample pages for prompt generation\n",
      "Generating custom prompt: 100%|██████████| 1/1 [00:14<00:00, 14.02s/it]\n",
      "2025-02-27 23:41:42,992 - pdf_parser - INFO - Generated custom prompt for transcription\n",
      "Transcribing pages in parallel:   7%|▋         | 11/160 [00:17<03:28,  1.40s/it]2025-02-27 23:51:49,689 - pdf_parser - ERROR - Error transcribing page: 504 Deadline Exceeded\n",
      "Transcribing pages in parallel:   8%|▊         | 12/160 [10:06<4:53:26, 118.96s/it]2025-02-27 23:52:00,679 - pdf_parser - ERROR - Error transcribing page: 504 Deadline Exceeded\n",
      "Transcribing pages in parallel: 100%|██████████| 160/160 [10:17<00:00,  3.86s/it]  \n",
      "2025-02-27 23:52:00,690 - pdf_parser - INFO - Transcription completed and saved to data/processed/rca.md\n"
     ]
    },
    {
     "name": "stdout",
     "output_type": "stream",
     "text": [
      "Transcription saved to data/processed/rca.md\n"
     ]
    }
   ],
   "source": [
    "# Initialize the parser\n",
    "parser = PDFParser(\n",
    "    dpi=150,\n",
    "    max_workers=8,  # Number of parallel workers\n",
    ")\n",
    "\n",
    "# Path to your PDF file\n",
    "pdf_path = \"data/raw/rca.pdf\"  # Replace with your PDF file path\n",
    "\n",
    "# Transcribe and save to a file\n",
    "output_path = \"data/processed/rca.md\"\n",
    "parser.transcribe_pdf(pdf_path, output_path)\n",
    "\n",
    "print(f\"Transcription saved to {output_path}\")\n"
   ]
  },
  {
   "cell_type": "code",
   "execution_count": null,
   "metadata": {},
   "outputs": [],
   "source": []
  }
 ],
 "metadata": {
  "kernelspec": {
   "display_name": ".venv",
   "language": "python",
   "name": "python3"
  },
  "language_info": {
   "codemirror_mode": {
    "name": "ipython",
    "version": 3
   },
   "file_extension": ".py",
   "mimetype": "text/x-python",
   "name": "python",
   "nbconvert_exporter": "python",
   "pygments_lexer": "ipython3",
   "version": "3.12.4"
  }
 },
 "nbformat": 4,
 "nbformat_minor": 4
}
