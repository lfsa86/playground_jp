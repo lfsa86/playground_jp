{
 "cells": [
  {
   "cell_type": "markdown",
   "metadata": {},
   "source": [
    "# PDF Transcriber Library - Usage Examples\n",
    "\n",
    "This notebook demonstrates how to use the PDF Transcriber library to convert PDF documents to Markdown with tables in HTML format using Google Gemini API with parallel processing."
   ]
  },
  {
   "cell_type": "markdown",
   "metadata": {},
   "source": [
    "## Import the Library\n",
    "\n",
    "Now let's import the necessary components from the library:"
   ]
  },
  {
   "cell_type": "code",
   "execution_count": 1,
   "metadata": {},
   "outputs": [
    {
     "name": "stderr",
     "output_type": "stream",
     "text": [
      "/Users/dqniel/Projects/lfsa/Identificacion-de-Compromisos/Identificacion-de-Compromisos/.venv/lib/python3.12/site-packages/tqdm/auto.py:21: TqdmWarning: IProgress not found. Please update jupyter and ipywidgets. See https://ipywidgets.readthedocs.io/en/stable/user_install.html\n",
      "  from .autonotebook import tqdm as notebook_tqdm\n"
     ]
    }
   ],
   "source": [
    "import logging\n",
    "import os\n",
    "import sys\n",
    "\n",
    "# Add directory to sys.path so we can import the pdf_parser module\n",
    "sys.path.append(\"..\")\n",
    "\n",
    "\n",
    "from pdf_parser import PDFParser\n",
    "\n",
    "# Set up logging to see what's happening\n",
    "logging.basicConfig(\n",
    "    level=logging.INFO, format=\"%(asctime)s - %(name)s - %(levelname)s - %(message)s\"\n",
    ")\n",
    "logger = logging.getLogger(\"pdf-transcriber-example\")\n"
   ]
  },
  {
   "cell_type": "markdown",
   "metadata": {},
   "source": [
    "## Set Up API Key\n",
    "\n",
    "You need to set up your Google Gemini API key. You can either set it as an environment variable or pass it directly to the PDFParser:"
   ]
  },
  {
   "cell_type": "code",
   "execution_count": 2,
   "metadata": {},
   "outputs": [],
   "source": [
    "# Set your api key here\n",
    "# os.environ[\"GOOGLE_API_KEY\"] = \"your-api-key-here\"  # Replace with your actual API key"
   ]
  },
  {
   "cell_type": "markdown",
   "metadata": {},
   "source": [
    "## Example 1: Basic Usage - Transcribe a Single PDF"
   ]
  },
  {
   "cell_type": "code",
   "execution_count": 3,
   "metadata": {},
   "outputs": [
    {
     "name": "stderr",
     "output_type": "stream",
     "text": [
      "2025-02-28 00:57:41,097 - pdf_parser - INFO - Starting parallel transcription of data/raw/rca.pdf\n",
      "Converting PDF to images: 100%|██████████| 160/160 [00:03<00:00, 52.25page/s]\n",
      "2025-02-28 00:57:44,190 - pdf_parser - INFO - Converted PDF to 160 images\n",
      "2025-02-28 00:57:44,190 - pdf_parser - INFO - Selected 3 sample pages for prompt generation\n",
      "Generating custom prompt: 100%|██████████| 1/1 [00:08<00:00,  8.64s/it]\n",
      "2025-02-28 00:57:52,837 - pdf_parser - INFO - Generated custom prompt for transcription\n",
      "Transcribing pages in parallel: 100%|██████████| 160/160 [03:25<00:00,  1.29s/it]\n",
      "2025-02-28 01:01:18,883 - pdf_parser - INFO - Transcription completed and saved to data/processed/rca.md\n"
     ]
    },
    {
     "name": "stdout",
     "output_type": "stream",
     "text": [
      "Transcription saved to data/processed/rca.md\n"
     ]
    }
   ],
   "source": [
    "# Initialize the parser\n",
    "parser = PDFParser()\n",
    "\n",
    "# Path to your PDF file\n",
    "pdf_path = \"data/raw/rca.pdf\"  # Replace with your PDF file path\n",
    "\n",
    "# Transcribe and save to a file\n",
    "output_path = \"data/processed/rca.md\"\n",
    "parser.transcribe_pdf(pdf_path, output_path)\n",
    "\n",
    "print(f\"Transcription saved to {output_path}\")\n"
   ]
  }
 ],
 "metadata": {
  "kernelspec": {
   "display_name": ".venv",
   "language": "python",
   "name": "python3"
  },
  "language_info": {
   "codemirror_mode": {
    "name": "ipython",
    "version": 3
   },
   "file_extension": ".py",
   "mimetype": "text/x-python",
   "name": "python",
   "nbconvert_exporter": "python",
   "pygments_lexer": "ipython3",
   "version": "3.12.4"
  }
 },
 "nbformat": 4,
 "nbformat_minor": 4
}
