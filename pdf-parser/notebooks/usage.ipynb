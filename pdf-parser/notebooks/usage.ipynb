{
 "cells": [
  {
   "cell_type": "markdown",
   "metadata": {},
   "source": [
    "# PDF Transcriber Library - Usage Examples\n",
    "\n",
    "This notebook demonstrates how to use the PDF Transcriber library to convert PDF documents to Markdown with tables in HTML format using Google Gemini API with parallel processing."
   ]
  },
  {
   "cell_type": "markdown",
   "metadata": {},
   "source": [
    "## Import the Library\n",
    "\n",
    "Now let's import the necessary components from the library:"
   ]
  },
  {
   "cell_type": "code",
   "execution_count": 1,
   "metadata": {},
   "outputs": [
    {
     "name": "stderr",
     "output_type": "stream",
     "text": [
      "/Users/dqniel/Projects/lfsa/Identificacion-de-Compromisos/.venv/lib/python3.12/site-packages/tqdm/auto.py:21: TqdmWarning: IProgress not found. Please update jupyter and ipywidgets. See https://ipywidgets.readthedocs.io/en/stable/user_install.html\n",
      "  from .autonotebook import tqdm as notebook_tqdm\n"
     ]
    }
   ],
   "source": [
    "import logging\n",
    "import os\n",
    "import sys\n",
    "\n",
    "# Add directory to sys.path so we can import the pdf_parser module\n",
    "sys.path.append(\"..\")\n",
    "\n",
    "\n",
    "from pdf_parser import PDFParser\n",
    "\n",
    "# Set up logging to see what's happening\n",
    "logging.basicConfig(\n",
    "    level=logging.INFO, format=\"%(asctime)s - %(name)s - %(levelname)s - %(message)s\"\n",
    ")\n",
    "logger = logging.getLogger(\"pdf-transcriber-example\")\n"
   ]
  },
  {
   "cell_type": "markdown",
   "metadata": {},
   "source": [
    "## Set Up API Key\n",
    "\n",
    "You need to set up your Google Gemini API key. You can either set it as an environment variable or pass it directly to the PDFParser:"
   ]
  },
  {
   "cell_type": "code",
   "execution_count": 2,
   "metadata": {},
   "outputs": [],
   "source": [
    "# Set your api key here\n",
    "# os.environ[\"GOOGLE_API_KEY\"] = \"your-api-key-here\"  # Replace with your actual API key"
   ]
  },
  {
   "cell_type": "markdown",
   "metadata": {},
   "source": [
    "## Example 1: Basic Usage - Transcribe a Single PDF"
   ]
  },
  {
   "cell_type": "code",
   "execution_count": null,
   "metadata": {},
   "outputs": [
    {
     "name": "stderr",
     "output_type": "stream",
     "text": [
      "2025-02-24 20:16:35,636 - pdf_parser - INFO - Starting parallel transcription of data/raw/attention.pdf\n",
      "Converting PDF to images: 100%|██████████| 11/11 [00:00<00:00, 14.73page/s]\n",
      "2025-02-24 20:16:36,407 - pdf_parser - INFO - Converted PDF to 11 images\n",
      "2025-02-24 20:16:36,407 - pdf_parser - INFO - Selected 3 sample pages for prompt generation\n",
      "Generating custom prompt:   0%|          | 0/1 [00:00<?, ?it/s]2025-02-24 20:17:05,510 - pdf_parser - WARNING - Attempt 1/3 failed: Invalid operation: The `response.text` quick accessor requires the response to contain a valid `Part`, but none were returned. The candidate's [finish_reason](https://ai.google.dev/api/generate-content#finishreason) is 4. Meaning that the model was reciting from copyrighted material.\n",
      "Generating custom prompt: 100%|██████████| 1/1 [00:41<00:00, 41.07s/it]\n",
      "2025-02-24 20:17:17,475 - pdf_parser - INFO - Generated custom prompt for transcription\n",
      "Transcribing pages in parallel:   9%|▉         | 1/11 [01:41<16:59, 101.91s/it]\n"
     ]
    }
   ],
   "source": [
    "# Initialize the parser\n",
    "parser = PDFParser(\n",
    "    max_workers=4,  # Number of parallel workers\n",
    ")\n",
    "\n",
    "# Path to your PDF file\n",
    "pdf_path = \"data/raw/attention.pdf\"  # Replace with your PDF file path\n",
    "\n",
    "# Transcribe and save to a file\n",
    "output_path = \"data/processed/example_transcription.md\"\n",
    "parser.transcribe_pdf(pdf_path, output_path)\n",
    "\n",
    "print(f\"Transcription saved to {output_path}\")\n"
   ]
  }
 ],
 "metadata": {
  "kernelspec": {
   "display_name": ".venv",
   "language": "python",
   "name": "python3"
  },
  "language_info": {
   "codemirror_mode": {
    "name": "ipython",
    "version": 3
   },
   "file_extension": ".py",
   "mimetype": "text/x-python",
   "name": "python",
   "nbconvert_exporter": "python",
   "pygments_lexer": "ipython3",
   "version": "3.12.4"
  }
 },
 "nbformat": 4,
 "nbformat_minor": 4
}
